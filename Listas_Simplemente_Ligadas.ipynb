{
  "nbformat": 4,
  "nbformat_minor": 0,
  "metadata": {
    "colab": {
      "name": "Listas_Simplemente_Ligadas.ipynb",
      "provenance": []
    },
    "kernelspec": {
      "name": "python3",
      "display_name": "Python 3"
    },
    "language_info": {
      "name": "python"
    }
  },
  "cells": [
    {
      "cell_type": "code",
      "metadata": {
        "id": "H2jh0zRP6ZXD"
      },
      "source": [
        "class Nodo:\n",
        "  def __init__( self , value , siguiente = None , previo = None ):\n",
        "    self.data = value\n",
        "    self.next = siguiente\n",
        "    self.prev = previo"
      ],
      "execution_count": 1,
      "outputs": []
    },
    {
      "cell_type": "code",
      "metadata": {
        "colab": {
          "base_uri": "https://localhost:8080/"
        },
        "id": "NicYJtuQ8Bds",
        "outputId": "874dc23c-4638-4b17-f5a7-40dfe7b1fa46"
      },
      "source": [
        "head = Nodo(10)\n",
        "print( head.data )"
      ],
      "execution_count": 2,
      "outputs": [
        {
          "output_type": "stream",
          "name": "stdout",
          "text": [
            "10\n"
          ]
        }
      ]
    },
    {
      "cell_type": "code",
      "metadata": {
        "colab": {
          "base_uri": "https://localhost:8080/"
        },
        "id": "1HWjC0_S8FNI",
        "outputId": "4f23ea7c-d62d-46b3-cfb1-d80f8ac9cf2c"
      },
      "source": [
        "head = Nodo(10)\n",
        "head.next = Nodo(20)\n",
        "head.next.next = Nodo(30)\n",
        "head.next.prev = head\n",
        "head.next.next.prev = Nodo(20)\n",
        "head.next.next.prev.prev = head\n",
        "\n",
        "print(f\"Primero= { head.data }\" )\n",
        "print(f\"Segundo= { head.next.data }\" )\n",
        "print(\"\\n\")\n",
        "\n",
        "#Lo mismo pero ahorrando codigo\n",
        "head = Nodo(10 , Nodo(20))\n",
        "print(f\"Primero= { head.data }\" )\n",
        "print(f\"Segundo= { head.next.data }\" )\n",
        "print(\"\\n\")\n",
        "\n",
        "#transversal\n",
        "curr_node = head\n",
        "while curr_node != None:\n",
        "  print(f\"| {curr_node.data } | --> \" , end=\"\" )\n",
        "  curr_node = curr_node.next"
      ],
      "execution_count": 3,
      "outputs": [
        {
          "output_type": "stream",
          "name": "stdout",
          "text": [
            "Primero= 10\n",
            "Segundo= 20\n",
            "\n",
            "\n",
            "Primero= 10\n",
            "Segundo= 20\n",
            "\n",
            "\n",
            "| 10 | --> | 20 | --> "
          ]
        }
      ]
    },
    {
      "cell_type": "code",
      "metadata": {
        "colab": {
          "base_uri": "https://localhost:8080/"
        },
        "id": "hNALgTxa8dYQ",
        "outputId": "fc5b2280-c68b-4f59-8c23-8779cf8f4935"
      },
      "source": [
        "head = Nodo(10 , Nodo(20 , Nodo(30 , Nodo(40))))\n",
        "curr_node = head\n",
        "while curr_node != None:\n",
        "  print(f\"| {curr_node.data } | --> \" , end=\"\" )\n",
        "  curr_node = curr_node.next\n",
        "print(\"\\n\")\n",
        "\n",
        "#imprimir primero\n",
        "print(head.data)\n",
        "#imprimir el ultimo \n",
        "curr_node = head\n",
        "while curr_node.next != None:\n",
        "  curr_node = curr_node.next\n",
        "print(curr_node.data)\n",
        "print(\"\\n\")\n",
        "#Agrega Nodo\n",
        "curr_node = head\n",
        "while curr_node.data != 20:\n",
        "  curr_node = curr_node.next\n",
        "print(curr_node.data)\n",
        "\n",
        "#   Insertar el 25 entre 20 y 30\n",
        "curr_node = head\n",
        "while curr_node.data != 20:\n",
        "    curr_node = curr_node.next\n",
        "print(curr_node.data)\n",
        "\n",
        "#      Crear Nodo 25\n",
        "curr_node.next = Nodo(25, curr_node.next )\n",
        "print(\"Después de insertar a 25 \")\n",
        "#   Trasnversal\n",
        "curr_node = head\n",
        "while curr_node !=  None:\n",
        "    print(f\"| {curr_node.data } | ---> \" , end=\"\")\n",
        "    curr_node = curr_node.next\n",
        "print(\"\")"
      ],
      "execution_count": 4,
      "outputs": [
        {
          "output_type": "stream",
          "name": "stdout",
          "text": [
            "| 10 | --> | 20 | --> | 30 | --> | 40 | --> \n",
            "\n",
            "10\n",
            "40\n",
            "\n",
            "\n",
            "20\n",
            "20\n",
            "Después de insertar a 25 \n",
            "| 10 | ---> | 20 | ---> | 25 | ---> | 30 | ---> | 40 | ---> \n"
          ]
        }
      ]
    },
    {
      "cell_type": "code",
      "metadata": {
        "id": "6ERQgnwV8gKZ"
      },
      "source": [
        "class LinkedList:\n",
        "  def __init__(self):\n",
        "    self.head = None\n",
        "\n",
        "  def is_empty (self):\n",
        "    return self.head == None\n",
        "\n",
        "  def get_tail(self):\n",
        "    if self.is_empty():\n",
        "      return None\n",
        "    else:\n",
        "      curr_node = self.head\n",
        "      while curr_node.next != None:\n",
        "        curr_node = curr_node.next\n",
        "      return curr_node\n",
        "\n",
        "  def append( self, value):\n",
        "    if self.head == None:\n",
        "        self.head = Nodo(value)\n",
        "    else:\n",
        "      curr_node = self.head\n",
        "      while curr_node.next != None:\n",
        "        curr_node = curr_node.next\n",
        "      curr_node.next = Nodo(value)\n",
        "\n",
        "  def transversal (self):\n",
        "    curr_node = self.head\n",
        "    while curr_node != None:\n",
        "      print(f\"| {curr_node.data} | -->\", end=\"\")\n",
        "      curr_node = curr_node.next\n",
        "    print (\"\")\n",
        "\n",
        "  def remove ( self , value):\n",
        "    if self.head == None:\n",
        "      print(\"Lista vacia, no se pudo remover nada\")\n",
        "    else:\n",
        "      curr_node = self.head\n",
        "      aux = None\n",
        "      while curr_node.data != value: #revisar cuando el valor no existe\n",
        "        aux = curr_node\n",
        "        curr_node = curr_node.next\n",
        "      if curr_node != None:\n",
        "        aux.next = curr_node.next\n",
        "        curr_node = None\n",
        "\n",
        "  def preppend ( self, value):\n",
        "    if self.head == None:\n",
        "      print(\"Esta vacio, no se puede hacer preppend\")\n",
        "    else:\n",
        "      aux = self.head\n",
        "      self.head = Nodo (value,aux)\n",
        "\n",
        "  def add_after ( self , reference_value , value ):\n",
        "    if self.head == None:\n",
        "        self.head = Nodo(value)\n",
        "    else:\n",
        "      curr_node = self.head\n",
        "      while curr_node.data != reference_value:\n",
        "        curr_node = curr_node.next\n",
        "      curr_node.next = Nodo( value , curr_node.next )\n",
        "  \n",
        "  def add_before ( self , reference_value , value ):\n",
        "    if self.head == None:\n",
        "       self.head = Nodo(value)\n",
        "    else:\n",
        "      c = 0\n",
        "      curr_node = self.head\n",
        "      while curr_node.data != reference_value:\n",
        "        curr_node = curr_node.next\n",
        "        c += 1\n",
        "      curr_node = self.head\n",
        "      while c != 1:\n",
        "        c -=1\n",
        "        curr_node = curr_node.next\n",
        "      curr_node.next = Nodo( value , curr_node.next )"
      ],
      "execution_count": 23,
      "outputs": []
    },
    {
      "cell_type": "code",
      "metadata": {
        "colab": {
          "base_uri": "https://localhost:8080/"
        },
        "id": "T4dfSqRH8_us",
        "outputId": "9643e1d0-bc04-4213-8e3a-cd13dbee3b0f"
      },
      "source": [
        "lista = LinkedList()\n",
        "if lista.is_empty:\n",
        "  print(\"La lista esta vacia\")\n",
        "else:\n",
        "  print(\"La lista no esta vacia\")\n",
        "\n",
        "lista.append(10)\n",
        "lista.append(20)\n",
        "lista.append(30)\n",
        "lista.append(40)\n",
        "lista.append(50)\n",
        "\n",
        "nodo = lista.get_tail()\n",
        "if nodo !=None :\n",
        "  print(nodo.data)\n",
        "else:\n",
        "  print(\"Lista esta vacia\")\n",
        "\n",
        "lista.transversal()\n",
        "print(\"Despues del remove:\")\n",
        "lista.remove(30)\n",
        "lista.transversal()\n",
        "print(\"Despues del preppend:\")\n",
        "lista.preppend(5)\n",
        "lista.transversal()\n",
        "print(\"Despues del add_after:\")\n",
        "lista.add_after(40 , 45)\n",
        "lista.transversal()\n",
        "print(\"Despues del add_before:\")\n",
        "lista.add_before(40 , 30)\n",
        "lista.transversal()"
      ],
      "execution_count": 27,
      "outputs": [
        {
          "output_type": "stream",
          "name": "stdout",
          "text": [
            "La lista esta vacia\n",
            "50\n",
            "| 10 | -->| 20 | -->| 30 | -->| 40 | -->| 50 | -->\n",
            "Despues del remove:\n",
            "| 10 | -->| 20 | -->| 40 | -->| 50 | -->\n",
            "Despues del preppend:\n",
            "| 5 | -->| 10 | -->| 20 | -->| 40 | -->| 50 | -->\n",
            "Despues del add_after:\n",
            "| 5 | -->| 10 | -->| 20 | -->| 40 | -->| 45 | -->| 50 | -->\n",
            "Despues del add_before:\n",
            "| 5 | -->| 10 | -->| 20 | -->| 30 | -->| 40 | -->| 45 | -->| 50 | -->\n"
          ]
        }
      ]
    }
  ]
}